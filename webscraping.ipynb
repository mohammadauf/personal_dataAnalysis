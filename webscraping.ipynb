{
 "cells": [
  {
   "cell_type": "code",
   "execution_count": 1,
   "id": "872192c3",
   "metadata": {},
   "outputs": [],
   "source": [
    "import pandas as pd"
   ]
  },
  {
   "cell_type": "code",
   "execution_count": 2,
   "id": "c1cbbf4d",
   "metadata": {},
   "outputs": [],
   "source": [
    "data=pd.read_csv('out.csv')"
   ]
  },
  {
   "cell_type": "code",
   "execution_count": 3,
   "id": "adffe875",
   "metadata": {},
   "outputs": [
    {
     "data": {
      "text/html": [
       "<div>\n",
       "<style scoped>\n",
       "    .dataframe tbody tr th:only-of-type {\n",
       "        vertical-align: middle;\n",
       "    }\n",
       "\n",
       "    .dataframe tbody tr th {\n",
       "        vertical-align: top;\n",
       "    }\n",
       "\n",
       "    .dataframe thead th {\n",
       "        text-align: right;\n",
       "    }\n",
       "</style>\n",
       "<table border=\"1\" class=\"dataframe\">\n",
       "  <thead>\n",
       "    <tr style=\"text-align: right;\">\n",
       "      <th></th>\n",
       "      <th>Unnamed: 0</th>\n",
       "      <th>title</th>\n",
       "      <th>channel_name</th>\n",
       "      <th>links</th>\n",
       "      <th>date_&amp;_time</th>\n",
       "      <th>channel_subscribe</th>\n",
       "    </tr>\n",
       "  </thead>\n",
       "  <tbody>\n",
       "    <tr>\n",
       "      <th>0</th>\n",
       "      <td>0</td>\n",
       "      <td>web scraping using python for beginners</td>\n",
       "      <td>Hitesh Choudhary</td>\n",
       "      <td>https://www.youtube.com/watch?v=0_VZ7NpVw1Y</td>\n",
       "      <td>18 Feb 2023,\\n          18:11:29 IST</td>\n",
       "      <td>Channel title</td>\n",
       "    </tr>\n",
       "    <tr>\n",
       "      <th>1</th>\n",
       "      <td>1</td>\n",
       "      <td>Web Scraping Tutorial using Python and Beautif...</td>\n",
       "      <td>CodeWithHarry</td>\n",
       "      <td>https://www.youtube.com/watch?v=uufDGjTuq34</td>\n",
       "      <td>18\\n          Feb\\n          2023, 18:11:16 IST</td>\n",
       "      <td>Dhruv Rathee</td>\n",
       "    </tr>\n",
       "    <tr>\n",
       "      <th>2</th>\n",
       "      <td>2</td>\n",
       "      <td>समस्या को सुलझाया</td>\n",
       "      <td>Deepak Rawat IAS</td>\n",
       "      <td>https://www.youtube.com/watch?v=zCWe93oOZDw</td>\n",
       "      <td>18 Feb 2023,\\n          17:59:58 IST</td>\n",
       "      <td>Dua Lipa</td>\n",
       "    </tr>\n",
       "    <tr>\n",
       "      <th>3</th>\n",
       "      <td>3</td>\n",
       "      <td>NIVIA ENCOUNTER 9.0 FOOTBALL STUDS</td>\n",
       "      <td>A1 TECHTUBER</td>\n",
       "      <td>https://www.youtube.com/watch?v=EwThfmR_tnk</td>\n",
       "      <td>18 Feb 2023, 17:48:35\\n          IST</td>\n",
       "      <td>Mohit Chhikara</td>\n",
       "    </tr>\n",
       "    <tr>\n",
       "      <th>4</th>\n",
       "      <td>4</td>\n",
       "      <td>How To Repair And Puncher A Football</td>\n",
       "      <td>Never Give Up</td>\n",
       "      <td>https://www.youtube.com/watch?v=M71JiV5swNE</td>\n",
       "      <td>18 Feb 2023, 17:44:06\\n          IST</td>\n",
       "      <td>Daan Hokke</td>\n",
       "    </tr>\n",
       "    <tr>\n",
       "      <th>5</th>\n",
       "      <td>5</td>\n",
       "      <td>How to Remove a Football Puncture - Without Br...</td>\n",
       "      <td>Prashant Patil</td>\n",
       "      <td>https://www.youtube.com/watch?v=jhXhOL8hRaA</td>\n",
       "      <td>18 Feb 2023, 17:42:35 IST</td>\n",
       "      <td>Ed Sheeran</td>\n",
       "    </tr>\n",
       "    <tr>\n",
       "      <th>6</th>\n",
       "      <td>6</td>\n",
       "      <td>How to fix puncture in a ball 🏀 .. #youtubesho...</td>\n",
       "      <td>Mr. Athlete</td>\n",
       "      <td>https://www.youtube.com/watch?v=jD1jppBzp78</td>\n",
       "      <td>18 Feb 2023, 17:41:22\\n          IST\\n</td>\n",
       "      <td>CarryisLive</td>\n",
       "    </tr>\n",
       "    <tr>\n",
       "      <th>7</th>\n",
       "      <td>7</td>\n",
       "      <td>UEFA Champions League Explained HINDI | Club W...</td>\n",
       "      <td>Talk Football HD</td>\n",
       "      <td>https://www.youtube.com/watch?v=0aYVbkh6WcM</td>\n",
       "      <td>18 Feb 2023,\\n          12:46:42 IST</td>\n",
       "      <td>AllAttack</td>\n",
       "    </tr>\n",
       "    <tr>\n",
       "      <th>8</th>\n",
       "      <td>8</td>\n",
       "      <td>UEFA Europa League Explained</td>\n",
       "      <td>Snowman Sports Media</td>\n",
       "      <td>https://www.youtube.com/watch?v=M-y2OXv3asY</td>\n",
       "      <td>18 Feb 2023,\\n          12:46:35 IST</td>\n",
       "      <td>Shemaroo Comedy</td>\n",
       "    </tr>\n",
       "    <tr>\n",
       "      <th>9</th>\n",
       "      <td>9</td>\n",
       "      <td>Spot the bug, I challenge you! 👨‍💻</td>\n",
       "      <td>CodeWithHarry</td>\n",
       "      <td>https://www.youtube.com/watch?v=bgM7BVwkqMo</td>\n",
       "      <td>18 Feb 2023, 11:48:56\\n          IST</td>\n",
       "      <td>GeeksforGeeks</td>\n",
       "    </tr>\n",
       "    <tr>\n",
       "      <th>10</th>\n",
       "      <td>10</td>\n",
       "      <td>Opening and Closing Rank of IIT for Computer S...</td>\n",
       "      <td>eSaral - JEE, NEET, Class 9 &amp; 10  Preparation</td>\n",
       "      <td>https://www.youtube.com/watch?v=Njcq2emvQQM</td>\n",
       "      <td>18 Feb 2023, 11:47:13 IST</td>\n",
       "      <td>Adam Saleh</td>\n",
       "    </tr>\n",
       "    <tr>\n",
       "      <th>11</th>\n",
       "      <td>11</td>\n",
       "      <td>🔥Safe score for IIT for SC/ST candidate | Gene...</td>\n",
       "      <td>Fast and STUDious - Ajay Singh</td>\n",
       "      <td>https://www.youtube.com/watch?v=rFwxPls1kDM</td>\n",
       "      <td>18\\n          Feb\\n          2023, 11:46:45 IST</td>\n",
       "      <td>PudgeS</td>\n",
       "    </tr>\n",
       "    <tr>\n",
       "      <th>12</th>\n",
       "      <td>12</td>\n",
       "      <td>Harsh Reality of Studying at IITs!</td>\n",
       "      <td>Harnoor Singh</td>\n",
       "      <td>https://www.youtube.com/watch?v=bw5VXi3vZTg</td>\n",
       "      <td>18 Feb 2023, 11:46:17\\n          IST</td>\n",
       "      <td>Kapil Sharma</td>\n",
       "    </tr>\n",
       "    <tr>\n",
       "      <th>13</th>\n",
       "      <td>13</td>\n",
       "      <td>It's OKAY to not get into IIT!</td>\n",
       "      <td>Scholar Strategy by Nistha  Tripathi</td>\n",
       "      <td>https://www.youtube.com/watch?v=pulpWOGZbeM</td>\n",
       "      <td>18 Feb 2023, 11:46:08 IST</td>\n",
       "      <td>Entertainment Daily</td>\n",
       "    </tr>\n",
       "    <tr>\n",
       "      <th>14</th>\n",
       "      <td>14</td>\n",
       "      <td>Kiara Advani on her Leaf controversial photo |...</td>\n",
       "      <td>Scroll with  me</td>\n",
       "      <td>https://www.youtube.com/watch?v=Lge-KSSH1Yo</td>\n",
       "      <td>18\\n          Feb 2023, 11:45:09 IST</td>\n",
       "      <td>Indore Physical Academy</td>\n",
       "    </tr>\n",
       "  </tbody>\n",
       "</table>\n",
       "</div>"
      ],
      "text/plain": [
       "    Unnamed: 0                                              title  \\\n",
       "0            0            web scraping using python for beginners   \n",
       "1            1  Web Scraping Tutorial using Python and Beautif...   \n",
       "2            2                                  समस्या को सुलझाया   \n",
       "3            3                 NIVIA ENCOUNTER 9.0 FOOTBALL STUDS   \n",
       "4            4               How To Repair And Puncher A Football   \n",
       "5            5  How to Remove a Football Puncture - Without Br...   \n",
       "6            6  How to fix puncture in a ball 🏀 .. #youtubesho...   \n",
       "7            7  UEFA Champions League Explained HINDI | Club W...   \n",
       "8            8                       UEFA Europa League Explained   \n",
       "9            9                 Spot the bug, I challenge you! 👨‍💻   \n",
       "10          10  Opening and Closing Rank of IIT for Computer S...   \n",
       "11          11  🔥Safe score for IIT for SC/ST candidate | Gene...   \n",
       "12          12                 Harsh Reality of Studying at IITs!   \n",
       "13          13                     It's OKAY to not get into IIT!   \n",
       "14          14  Kiara Advani on her Leaf controversial photo |...   \n",
       "\n",
       "                                     channel_name  \\\n",
       "0                                Hitesh Choudhary   \n",
       "1                                   CodeWithHarry   \n",
       "2                                Deepak Rawat IAS   \n",
       "3                                    A1 TECHTUBER   \n",
       "4                                   Never Give Up   \n",
       "5                                  Prashant Patil   \n",
       "6                                     Mr. Athlete   \n",
       "7                                Talk Football HD   \n",
       "8                            Snowman Sports Media   \n",
       "9                                   CodeWithHarry   \n",
       "10  eSaral - JEE, NEET, Class 9 & 10  Preparation   \n",
       "11                 Fast and STUDious - Ajay Singh   \n",
       "12                                  Harnoor Singh   \n",
       "13           Scholar Strategy by Nistha  Tripathi   \n",
       "14                                Scroll with  me   \n",
       "\n",
       "                                          links  \\\n",
       "0   https://www.youtube.com/watch?v=0_VZ7NpVw1Y   \n",
       "1   https://www.youtube.com/watch?v=uufDGjTuq34   \n",
       "2   https://www.youtube.com/watch?v=zCWe93oOZDw   \n",
       "3   https://www.youtube.com/watch?v=EwThfmR_tnk   \n",
       "4   https://www.youtube.com/watch?v=M71JiV5swNE   \n",
       "5   https://www.youtube.com/watch?v=jhXhOL8hRaA   \n",
       "6   https://www.youtube.com/watch?v=jD1jppBzp78   \n",
       "7   https://www.youtube.com/watch?v=0aYVbkh6WcM   \n",
       "8   https://www.youtube.com/watch?v=M-y2OXv3asY   \n",
       "9   https://www.youtube.com/watch?v=bgM7BVwkqMo   \n",
       "10  https://www.youtube.com/watch?v=Njcq2emvQQM   \n",
       "11  https://www.youtube.com/watch?v=rFwxPls1kDM   \n",
       "12  https://www.youtube.com/watch?v=bw5VXi3vZTg   \n",
       "13  https://www.youtube.com/watch?v=pulpWOGZbeM   \n",
       "14  https://www.youtube.com/watch?v=Lge-KSSH1Yo   \n",
       "\n",
       "                                        date_&_time        channel_subscribe  \n",
       "0              18 Feb 2023,\\n          18:11:29 IST            Channel title  \n",
       "1   18\\n          Feb\\n          2023, 18:11:16 IST             Dhruv Rathee  \n",
       "2              18 Feb 2023,\\n          17:59:58 IST                 Dua Lipa  \n",
       "3              18 Feb 2023, 17:48:35\\n          IST           Mohit Chhikara  \n",
       "4              18 Feb 2023, 17:44:06\\n          IST               Daan Hokke  \n",
       "5                         18 Feb 2023, 17:42:35 IST               Ed Sheeran  \n",
       "6    18 Feb 2023, 17:41:22\\n          IST\\n                      CarryisLive  \n",
       "7              18 Feb 2023,\\n          12:46:42 IST                AllAttack  \n",
       "8              18 Feb 2023,\\n          12:46:35 IST          Shemaroo Comedy  \n",
       "9              18 Feb 2023, 11:48:56\\n          IST            GeeksforGeeks  \n",
       "10                        18 Feb 2023, 11:47:13 IST               Adam Saleh  \n",
       "11  18\\n          Feb\\n          2023, 11:46:45 IST                   PudgeS  \n",
       "12             18 Feb 2023, 11:46:17\\n          IST             Kapil Sharma  \n",
       "13                        18 Feb 2023, 11:46:08 IST      Entertainment Daily  \n",
       "14             18\\n          Feb 2023, 11:45:09 IST  Indore Physical Academy  "
      ]
     },
     "execution_count": 3,
     "metadata": {},
     "output_type": "execute_result"
    }
   ],
   "source": [
    "data.head(15)"
   ]
  },
  {
   "cell_type": "code",
   "execution_count": 4,
   "id": "dba2d73f",
   "metadata": {},
   "outputs": [
    {
     "data": {
      "text/plain": [
       "(4988, 6)"
      ]
     },
     "execution_count": 4,
     "metadata": {},
     "output_type": "execute_result"
    }
   ],
   "source": [
    "data.shape"
   ]
  },
  {
   "cell_type": "code",
   "execution_count": 5,
   "id": "bff3bf35",
   "metadata": {},
   "outputs": [
    {
     "data": {
      "text/plain": [
       "Qomandan                        117\n",
       "CodeWithHarry                    80\n",
       "Salam  Afghanistan 🇦🇫            30\n",
       "Mufti Tariq Masood  Speeches     30\n",
       "Jojo Sim                         30\n",
       "StudyIQ IAS                      29\n",
       "Neso Academy                     28\n",
       "The Lallantop                    24\n",
       "The Love Time                    22\n",
       "Dhruv Rathee                     21\n",
       "Name: channel_name, dtype: int64"
      ]
     },
     "execution_count": 5,
     "metadata": {},
     "output_type": "execute_result"
    }
   ],
   "source": [
    "# most channel watched\n",
    "data['channel_name'].value_counts()[:10]"
   ]
  },
  {
   "cell_type": "code",
   "execution_count": 7,
   "id": "120bf088",
   "metadata": {},
   "outputs": [
    {
     "data": {
      "text/plain": [
       "254"
      ]
     },
     "execution_count": 7,
     "metadata": {},
     "output_type": "execute_result"
    }
   ],
   "source": [
    "# 254 channel subscribe\n",
    "data['channel_subscribe'].count()"
   ]
  }
 ],
 "metadata": {
  "kernelspec": {
   "display_name": "Python 3 (ipykernel)",
   "language": "python",
   "name": "python3"
  },
  "language_info": {
   "codemirror_mode": {
    "name": "ipython",
    "version": 3
   },
   "file_extension": ".py",
   "mimetype": "text/x-python",
   "name": "python",
   "nbconvert_exporter": "python",
   "pygments_lexer": "ipython3",
   "version": "3.11.2"
  },
  "vscode": {
   "interpreter": {
    "hash": "0782d92e1dcb29b684a8d0ad3e5cdb5daa79f4ff5364b9a6cf9eed40bd0c8eae"
   }
  }
 },
 "nbformat": 4,
 "nbformat_minor": 5
}
